{
 "cells": [
  {
   "cell_type": "markdown",
   "metadata": {},
   "source": [
    "# Profit Prophet: The Stock Market ML Predictor\n",
    "\n",
    "This project uses LSTM machine learning to make predictions on the stock market and recommend a course of action.\n",
    "\n",
    "## Stock Data\n",
    "\n",
    "TBD. What specific data should we collect for the LSTM?\n",
    "\n",
    "## Approach\n",
    "\n",
    "First we train an LSTM model for the [TBD. Aggreggated index? Each stock?] to get a forecast of the market based on pure numeric data.\n",
    "\n",
    "Simultaneously, we read the news and use ML to catagorize the news and react in these ways:\n",
    "\n",
    "|    Stock Implication   |          Past          |         Present           |          Future          |\n",
    "| :--------------------: | :--------------------: | :-----------------------: | :----------------------: |\n",
    "| Artificially Increased |  Reduce Past Estimate  |  Reduce Present Estimate  |  Reduce Future Estimate  |\n",
    "| Artificially Decreased | Increase Past Estimate | Increase Present Estimate | Increase Future Estimate |\n",
    "|        No Change       |       Do Nothing       |         Do Nothing        |        Do Nothing        |\n",
    "\n",
    "This gives us an estimate and forecast of the *True* value of the stock, which we can use to make fat stacks.\n",
    "\n",
    "## Tools\n",
    "\n",
    "There are multiple different ways to get the stock prices; Bloomberg Terminals, and OpenBB"
   ]
  },
  {
   "cell_type": "markdown",
   "metadata": {},
   "source": [
    "### Bloomberg API\n",
    "\n",
    "Bloomberg terminals are the defacto way to get stock information. UW also provides access to 4 of these terminals in the MC building. The API for Bloomberg requires the terminal to be running, so the API can only run on a machine with the terminal open.\n",
    "\n",
    "For this reason, we are moving away from Bloomberg API"
   ]
  },
  {
   "cell_type": "code",
   "execution_count": null,
   "metadata": {},
   "outputs": [],
   "source": [
    "# Bloomberg API\n",
    "\n",
    "from xbbg import blp\n",
    "import pandas as pd\n",
    "\n",
    "DATA_DIR = './Data/'\n",
    "\n",
    "tickers = ['NVDA US Equity', 'AAPL US Equity']\n",
    "fields = ['High', 'Low', 'Last_Price']\n",
    "start_date = '2024-11-01'\n",
    "end_date = '2024-11-10'\n",
    "\n",
    "# This line hangs unless it is running with a Bloomberg terminal\n",
    "hist_tick_data = blp.bdh(tickers=tickers, fields=fields, start_date=start_date, end_date=end_date)\n",
    "\n",
    "filename = f'tick_data_{start_date}_to_{end_date}.csv'\n",
    "hist_tick_data.to_csv(DATA_DIR + filename)\n",
    "\n"
   ]
  },
  {
   "cell_type": "markdown",
   "metadata": {},
   "source": [
    "### OpenBB\n",
    "\n",
    "OpenBB is a free open-source implementation of Bloomberg's stock viewer. It can be run without any special software running in the background."
   ]
  },
  {
   "cell_type": "code",
   "execution_count": 1,
   "metadata": {},
   "outputs": [
    {
     "name": "stdout",
     "output_type": "stream",
     "text": [
      "                  open        high         low       close     volume  \\\n",
      "date                                                                    \n",
      "2024-11-01  220.970001  225.350006  220.270004  222.910004   65276700   \n",
      "2024-11-01  134.699997  137.309998  134.570007  135.399994  207127800   \n",
      "2024-11-04  220.990005  222.789993  219.710007  222.009995   44944500   \n",
      "2024-11-04  137.210007  138.960007  135.570007  136.050003  187528200   \n",
      "2024-11-05  221.800003  223.949997  221.139999  223.449997   28111300   \n",
      "2024-11-05  137.449997  140.369995  137.330002  139.910004  160537400   \n",
      "2024-11-06  222.610001  226.070007  221.190002  222.720001   54561100   \n",
      "2024-11-06  142.960007  146.490005  141.960007  145.610001  242043900   \n",
      "2024-11-07  224.630005  227.880005  224.570007  227.479996   42137700   \n",
      "2024-11-07  146.389999  148.929993  146.169998  148.880005  207323300   \n",
      "2024-11-08  227.169998  228.660004  226.410004  226.960007   38328800   \n",
      "2024-11-08  148.770004  149.770004  146.259995  147.630005  175665800   \n",
      "\n",
      "            dividend symbol  \n",
      "date                         \n",
      "2024-11-01      0.00   AAPL  \n",
      "2024-11-01      0.00   NVDA  \n",
      "2024-11-04      0.00   AAPL  \n",
      "2024-11-04      0.00   NVDA  \n",
      "2024-11-05      0.00   AAPL  \n",
      "2024-11-05      0.00   NVDA  \n",
      "2024-11-06      0.00   AAPL  \n",
      "2024-11-06      0.00   NVDA  \n",
      "2024-11-07      0.00   AAPL  \n",
      "2024-11-07      0.00   NVDA  \n",
      "2024-11-08      0.25   AAPL  \n",
      "2024-11-08      0.00   NVDA  \n"
     ]
    }
   ],
   "source": [
    "# OpenBB API\n",
    "\n",
    "from openbb import obb\n",
    "\n",
    "obb.user.preferences.output_type = \"dataframe\"\n",
    "\n",
    "# Get Some Data\n",
    "symbols = ['AAPL', 'NVDA']\n",
    "start_date = '2024-11-01'\n",
    "end_date = '2024-11-10'\n",
    "\n",
    "options = obb.equity.price.historical(symbol=symbols, start_date=start_date, end_date=end_date)\n",
    "\n",
    "print(options)"
   ]
  }
 ],
 "metadata": {
  "kernelspec": {
   "display_name": "Python 3",
   "language": "python",
   "name": "python3"
  },
  "language_info": {
   "codemirror_mode": {
    "name": "ipython",
    "version": 3
   },
   "file_extension": ".py",
   "mimetype": "text/x-python",
   "name": "python",
   "nbconvert_exporter": "python",
   "pygments_lexer": "ipython3",
   "version": "3.10.7"
  }
 },
 "nbformat": 4,
 "nbformat_minor": 2
}
